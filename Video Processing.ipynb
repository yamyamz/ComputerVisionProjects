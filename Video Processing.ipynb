{
 "cells": [
  {
   "cell_type": "markdown",
   "metadata": {},
   "source": [
    "##  Installing Latest FFmpeg static build"
   ]
  },
  {
   "cell_type": "code",
   "execution_count": 1,
   "metadata": {},
   "outputs": [
    {
     "name": "stdout",
     "output_type": "stream",
     "text": [
      "/usr/bin/ffmpeg\r\n"
     ]
    }
   ],
   "source": [
    "# Download latest FFmpeg static build.  \n",
    "exist = !which ffmpeg\n",
    "if not exist:\n",
    "    !curl https://johnvansickle.com/ffmpeg/releases/ffmpeg-release-amd64-static.tar.xz -o ffmpeg.tar.xz \\\n",
    "        && tar -xf ffmpeg.tar.xz && rm ffmpeg.tar.xz\n",
    "    ffmdir = !find . -iname ffmpeg-*-static\n",
    "    path = %env PATH\n",
    "    path = path + ':' + ffmdir[0]\n",
    "    %env PATH $path\n",
    "\n",
    "!which ffmpeg"
   ]
  },
  {
   "cell_type": "markdown",
   "metadata": {},
   "source": [
    "# Using ffprobe to read files"
   ]
  },
  {
   "cell_type": "markdown",
   "metadata": {},
   "source": [
    "### 1) Listing out the stream details of Cosmos_War_of_the_Planets.mp4"
   ]
  },
  {
   "cell_type": "code",
   "execution_count": 2,
   "metadata": {},
   "outputs": [
    {
     "name": "stdout",
     "output_type": "stream",
     "text": [
      "Input #0, mov,mp4,m4a,3gp,3g2,mj2, from 'Cosmos_War_of_the_Planets.mp4':\r\n",
      "  Metadata:\r\n",
      "    major_brand     : mp42\r\n",
      "    minor_version   : 0\r\n",
      "    compatible_brands: mp42mp41\r\n",
      "    creation_time   : 2021-08-02T19:15:48.000000Z\r\n",
      "  Duration: 00:00:20.05, start: 0.000000, bitrate: 3309 kb/s\r\n",
      "    Stream #0:0(eng): Video: h264 (Main) (avc1 / 0x31637661), yuv420p, 628x354 [SAR 1:1 DAR 314:177], 2989 kb/s, 29.97 fps, 29.97 tbr, 30k tbn, 59.94 tbc (default)\r\n",
      "    Metadata:\r\n",
      "      creation_time   : 2021-08-02T19:15:48.000000Z\r\n",
      "      handler_name    : Alias Data Handler\r\n",
      "      encoder         : AVC Coding\r\n",
      "    Stream #0:1(eng): Audio: aac (LC) (mp4a / 0x6134706D), 48000 Hz, stereo, fltp, 317 kb/s (default)\r\n",
      "    Metadata:\r\n",
      "      creation_time   : 2021-08-02T19:15:48.000000Z\r\n",
      "      handler_name    : Alias Data Handler\r\n"
     ]
    }
   ],
   "source": [
    "!ffprobe -hide_banner Cosmos_War_of_the_Planets.mp4"
   ]
  },
  {
   "cell_type": "markdown",
   "metadata": {},
   "source": [
    "### Writing the problematic fields found in Cosmos_War_of_the_Planets.mp4 into Problematic Formats.txt"
   ]
  },
  {
   "cell_type": "code",
   "execution_count": 3,
   "metadata": {},
   "outputs": [],
   "source": [
    "cosmos_file = open(\"Problematic Formats.txt\", \"a\")\n",
    "L = [\"Frame Rate is incorrect \\n\",\n",
    "     \"Aspect Ratio is incorrect \\n\",\n",
    "     \"Resolution is incorrect \\n\",\n",
    "     \"Audio Bit rate is incorrect \\n \\n \\n\"]\n",
    "cosmos_file.write(\"Problematic fields of the films \\n\")\n",
    "cosmos_file.write(\"------------------------------------ \\n\")\n",
    "cosmos_file.write(\"1) Cosmos_War_of_the_Planets \\n \\n\")\n",
    "\n",
    "cosmos_file.writelines(L)\n",
    "\n",
    "\n",
    "cosmos_file.close()"
   ]
  },
  {
   "cell_type": "markdown",
   "metadata": {},
   "source": [
    "### 2) Listing out the stream details of The_Gun_and_the_Pulpit.avi"
   ]
  },
  {
   "cell_type": "code",
   "execution_count": 4,
   "metadata": {},
   "outputs": [
    {
     "name": "stdout",
     "output_type": "stream",
     "text": [
      "Input #0, avi, from 'The_Gun_and_the_Pulpit.avi':\r\n",
      "  Duration: 00:00:20.00, start: 0.000000, bitrate: 88809 kb/s\r\n",
      "    Stream #0:0: Video: rawvideo (IYUV / 0x56555949), yuv420p, 720x404, 87438 kb/s, 25 fps, 25 tbr, 25 tbn, 25 tbc\r\n",
      "    Stream #0:1: Audio: pcm_s16le ([1][0][0][0] / 0x0001), 48000 Hz, 2 channels, s16, 1536 kb/s\r\n"
     ]
    }
   ],
   "source": [
    "!ffprobe -hide_banner The_Gun_and_the_Pulpit.avi\n"
   ]
  },
  {
   "cell_type": "markdown",
   "metadata": {},
   "source": [
    "### Writing the problematic fields found in The_Gun_and_the_Pulpit.avi into Problematic Formats.txt"
   ]
  },
  {
   "cell_type": "code",
   "execution_count": 5,
   "metadata": {},
   "outputs": [],
   "source": [
    "pulpit_file= open(\"Problematic Formats.txt\", \"a\")\n",
    "L = [\"The format is incorrect \\n\",\n",
    "     \"The Video Codec is incorrect \\n\",\n",
    "     \"The Audio Codec is incorrect \\n\",\n",
    "     \"The Aspect Ratio is incorrect \\n\",\n",
    "     \"The Audio Channel is incorrect \\n\",\n",
    "     \"The Video Bit Rate is incorrect \\n\",\n",
    "     \"The Audio Bit Rate is incorrect \\n\",\n",
    "     \"The Resolution is incorrect \\n \\n \\n\"]\n",
    "pulpit_file.write(\"2) The_Gun_and_the_Pulpit \\n \\n\")\n",
    "\n",
    "pulpit_file.writelines(L)\n",
    "\n",
    "\n",
    "pulpit_file.close()"
   ]
  },
  {
   "cell_type": "markdown",
   "metadata": {},
   "source": [
    "### 3) Listing out the stream details of The_Hill_Gang_Rides_Again.mp4"
   ]
  },
  {
   "cell_type": "code",
   "execution_count": 6,
   "metadata": {},
   "outputs": [
    {
     "name": "stdout",
     "output_type": "stream",
     "text": [
      "Input #0, mov,mp4,m4a,3gp,3g2,mj2, from 'The_Hill_Gang_Rides_Again.mp4':\r\n",
      "  Metadata:\r\n",
      "    major_brand     : mp42\r\n",
      "    minor_version   : 0\r\n",
      "    compatible_brands: mp42mp41\r\n",
      "    creation_time   : 2021-08-02T18:46:51.000000Z\r\n",
      "  Duration: 00:00:20.04, start: 0.000000, bitrate: 7784 kb/s\r\n",
      "    Stream #0:0(eng): Video: h264 (Main) (avc1 / 0x31637661), yuv420p, 640x360 [SAR 1:1 DAR 16:9], 7537 kb/s, 25 fps, 25 tbr, 25k tbn, 50 tbc (default)\r\n",
      "    Metadata:\r\n",
      "      creation_time   : 2021-08-02T18:46:51.000000Z\r\n",
      "      handler_name    : Alias Data Handler\r\n",
      "      encoder         : AVC Coding\r\n",
      "    Stream #0:1(eng): Audio: aac (LC) (mp4a / 0x6134706D), 44100 Hz, stereo, fltp, 253 kb/s (default)\r\n",
      "    Metadata:\r\n",
      "      creation_time   : 2021-08-02T18:46:51.000000Z\r\n",
      "      handler_name    : Alias Data Handler\r\n"
     ]
    }
   ],
   "source": [
    "!ffprobe -hide_banner The_Hill_Gang_Rides_Again.mp4"
   ]
  },
  {
   "cell_type": "markdown",
   "metadata": {},
   "source": [
    "### Writing the problematic fields found in The_Hill_Gang_Rides_Again.mp4 into Problematic Formats.txt"
   ]
  },
  {
   "cell_type": "code",
   "execution_count": 7,
   "metadata": {},
   "outputs": [],
   "source": [
    "Hill_file= open(\"Problematic Formats.txt\", \"a\")\n",
    "L = [\"The Video Bit Rate is incorrect \\n \\n \\n\"]\n",
    "Hill_file.write(\"3) The_Hill_Gang_Rides_Again \\n \\n\")\n",
    "\n",
    "Hill_file.writelines(L)\n",
    "\n",
    "\n",
    "Hill_file.close()"
   ]
  },
  {
   "cell_type": "markdown",
   "metadata": {},
   "source": [
    "### 4) Listing out the stream details of Last_man_on_earth_1964.mov"
   ]
  },
  {
   "cell_type": "code",
   "execution_count": 8,
   "metadata": {},
   "outputs": [
    {
     "name": "stdout",
     "output_type": "stream",
     "text": [
      "Input #0, mov,mp4,m4a,3gp,3g2,mj2, from 'Last_man_on_earth_1964.mov':\r\n",
      "  Metadata:\r\n",
      "    major_brand     : qt  \r\n",
      "    minor_version   : 537199360\r\n",
      "    compatible_brands: qt  \r\n",
      "    creation_time   : 2021-08-02T18:38:19.000000Z\r\n",
      "  Duration: 00:00:20.02, start: 0.000000, bitrate: 11240 kb/s\r\n",
      "    Stream #0:0(eng): Video: prores (apcs / 0x73637061), yuv422p10le(smpte170m/smpte170m/bt709, progressive), 640x360, 9285 kb/s, SAR 1:1 DAR 16:9, 23.98 fps, 23.98 tbr, 24k tbn, 24k tbc (default)\r\n",
      "    Metadata:\r\n",
      "      creation_time   : 2021-08-02T18:38:19.000000Z\r\n",
      "      handler_name    : Apple Alias Data Handler\r\n",
      "      encoder         : Apple ProRes 422 LT\r\n",
      "      timecode        : 00:51:43:11\r\n",
      "    Stream #0:1(eng): Audio: pcm_s16le (sowt / 0x74776F73), 48000 Hz, stereo, s16, 1536 kb/s (default)\r\n",
      "    Metadata:\r\n",
      "      creation_time   : 2021-08-02T18:38:19.000000Z\r\n",
      "      handler_name    : Apple Alias Data Handler\r\n",
      "      timecode        : 00:51:43:11\r\n",
      "    Stream #0:2(eng): Data: none (tmcd / 0x64636D74), 0 kb/s (default)\r\n",
      "    Metadata:\r\n",
      "      creation_time   : 2021-08-02T18:38:19.000000Z\r\n",
      "      handler_name    : Apple Alias Data Handler\r\n",
      "      timecode        : 00:51:43:11\r\n",
      "\u001b[0;33mUnsupported codec with id 0 for input stream 2\r\n",
      "\u001b[0m"
     ]
    }
   ],
   "source": [
    "!ffprobe -hide_banner Last_man_on_earth_1964.mov"
   ]
  },
  {
   "cell_type": "markdown",
   "metadata": {},
   "source": [
    "### Writing the problematic fields found in Last_man_on_earth_1964.mov into Problematic Formats.txt"
   ]
  },
  {
   "cell_type": "code",
   "execution_count": 9,
   "metadata": {},
   "outputs": [],
   "source": [
    "Last_man_file= open(\"Problematic Formats.txt\", \"a\")\n",
    "L = [\"The Video format is incorrect \\n\",\n",
    "     \"The Video Codec is incorrect \\n\",\n",
    "     \"The Video Bit Rate is incorrect \\n\", \n",
    "     \"The Frame Rate is incorrect \\n\",\n",
    "     \"The Audio Bit Rate is incorrect \\n\",\n",
    "     \"The Audio Codec is incorrect \\n \\n n\"]\n",
    "Last_man_file.write(\"4) Last_man_on_earth_1964 \\n \\n\")\n",
    "\n",
    "Last_man_file.writelines(L)\n",
    "\n",
    "\n",
    "Last_man_file.close()"
   ]
  },
  {
   "cell_type": "markdown",
   "metadata": {},
   "source": [
    "### 5) Listing out the stream details of Voyage_to_the_Planet_of_Prehistoric_Women.mp4"
   ]
  },
  {
   "cell_type": "code",
   "execution_count": 10,
   "metadata": {},
   "outputs": [
    {
     "name": "stdout",
     "output_type": "stream",
     "text": [
      "Input #0, mov,mp4,m4a,3gp,3g2,mj2, from 'Voyage_to_the_Planet_of_Prehistoric_Women.mp4':\r\n",
      "  Metadata:\r\n",
      "    major_brand     : mp42\r\n",
      "    minor_version   : 0\r\n",
      "    compatible_brands: mp42mp41\r\n",
      "    creation_time   : 2021-08-02T19:26:10.000000Z\r\n",
      "  Duration: 00:00:20.09, start: 0.000000, bitrate: 8337 kb/s\r\n",
      "    Stream #0:0(eng): Video: hevc (Main) (hvc1 / 0x31637668), yuv420p(tv, bt709), 640x360 [SAR 1:1 DAR 16:9], 8038 kb/s, 29.97 fps, 29.97 tbr, 30k tbn, 29.97 tbc (default)\r\n",
      "    Metadata:\r\n",
      "      creation_time   : 2021-08-02T19:26:10.000000Z\r\n",
      "      handler_name    : Alias Data Handler\r\n",
      "      encoder         : HEVC Coding\r\n",
      "    Stream #0:1(eng): Audio: mp3 (mp4a / 0x6134706D), 48000 Hz, stereo, s16p, 320 kb/s (default)\r\n",
      "    Metadata:\r\n",
      "      creation_time   : 2021-08-02T19:26:10.000000Z\r\n",
      "      handler_name    : Alias Data Handler\r\n"
     ]
    }
   ],
   "source": [
    "!ffprobe -hide_banner Voyage_to_the_Planet_of_Prehistoric_Women.mp4"
   ]
  },
  {
   "cell_type": "markdown",
   "metadata": {},
   "source": [
    "### Writing the problematic fields found in Voyage_to_the_Planet_of_Prehistoric_Women.mp4 into Problematic Formats.txt"
   ]
  },
  {
   "cell_type": "code",
   "execution_count": 11,
   "metadata": {},
   "outputs": [],
   "source": [
    "Voyage_to_the_Planet_file= open(\"Problematic Formats.txt\", \"a\")\n",
    "L = [\"The Video Codec is incorrect \\n\",\n",
    "     \"The Video Bit Rate is incorrect \\n\", \n",
    "     \"The Frame Rate is incorrect \\n\",\n",
    "     \"The Audio Bit Rate is incorrect \\n\",\n",
    "     \"The Audio Codec is incorrect \\n \\n \"]\n",
    "Voyage_to_the_Planet_file.write(\"5) Voyage_to_the_Planet_of_Prehistoric_Women \\n \\n\")\n",
    "\n",
    "Voyage_to_the_Planet_file.writelines(L)\n",
    "\n",
    "\n",
    "Voyage_to_the_Planet_file.close()"
   ]
  },
  {
   "cell_type": "markdown",
   "metadata": {},
   "source": [
    "# Conversion of video files to the correct format using ffmpeg"
   ]
  },
  {
   "cell_type": "markdown",
   "metadata": {},
   "source": [
    "### 1) Cosmos_War_of_the_Planets\n",
    "\n",
    "Changing frame rate, aspects ratio,  resolution and the audio bit rate respectively. "
   ]
  },
  {
   "cell_type": "code",
   "execution_count": 12,
   "metadata": {},
   "outputs": [
    {
     "name": "stdout",
     "output_type": "stream",
     "text": [
      "Input #0, mov,mp4,m4a,3gp,3g2,mj2, from 'Cosmos_War_of_the_Planets.mp4':\n",
      "  Metadata:\n",
      "    major_brand     : mp42\n",
      "    minor_version   : 0\n",
      "    compatible_brands: mp42mp41\n",
      "    creation_time   : 2021-08-02T19:15:48.000000Z\n",
      "  Duration: 00:00:20.05, start: 0.000000, bitrate: 3309 kb/s\n",
      "    Stream #0:0(eng): Video: h264 (Main) (avc1 / 0x31637661), yuv420p, 628x354 [SAR 1:1 DAR 314:177], 2989 kb/s, 29.97 fps, 29.97 tbr, 30k tbn, 59.94 tbc (default)\n",
      "    Metadata:\n",
      "      creation_time   : 2021-08-02T19:15:48.000000Z\n",
      "      handler_name    : Alias Data Handler\n",
      "      encoder         : AVC Coding\n",
      "    Stream #0:1(eng): Audio: aac (LC) (mp4a / 0x6134706D), 48000 Hz, stereo, fltp, 317 kb/s (default)\n",
      "    Metadata:\n",
      "      creation_time   : 2021-08-02T19:15:48.000000Z\n",
      "      handler_name    : Alias Data Handler\n",
      "Stream mapping:\n",
      "  Stream #0:0 -> #0:0 (h264 (native) -> h264 (libx264))\n",
      "  Stream #0:1 -> #0:1 (aac (native) -> aac (native))\n",
      "Press [q] to stop, [?] for help\n",
      "\u001b[1;36m[libx264 @ 0x5628763235c0] \u001b[0musing SAR=1/1\n",
      "\u001b[1;36m[libx264 @ 0x5628763235c0] \u001b[0musing cpu capabilities: MMX2 SSE2Fast SSSE3 SSE4.2 AVX FMA3 BMI2 AVX2 AVX512\n",
      "\u001b[1;36m[libx264 @ 0x5628763235c0] \u001b[0mprofile High, level 3.0\n",
      "\u001b[1;36m[libx264 @ 0x5628763235c0] \u001b[0m264 - core 152 r2854 e9a5903 - H.264/MPEG-4 AVC codec - Copyleft 2003-2017 - http://www.videolan.org/x264.html - options: cabac=1 ref=3 deblock=1:0:0 analyse=0x3:0x113 me=hex subme=7 psy=1 psy_rd=1.00:0.00 mixed_ref=1 me_range=16 chroma_me=1 trellis=1 8x8dct=1 cqm=0 deadzone=21,11 fast_pskip=1 chroma_qp_offset=-2 threads=11 lookahead_threads=1 sliced_threads=0 nr=0 decimate=1 interlaced=0 bluray_compat=0 constrained_intra=0 bframes=3 b_pyramid=2 b_adapt=1 b_bias=0 direct=1 weightb=1 open_gop=0 weightp=2 keyint=250 keyint_min=25 scenecut=40 intra_refresh=0 rc_lookahead=40 rc=crf mbtree=1 crf=23.0 qcomp=0.60 qpmin=0 qpmax=69 qpstep=4 ip_ratio=1.40 aq=1:1.00\n",
      "Output #0, mp4, to 'Cosmos_War_of_the_Planets_formatOK.mp4':\n",
      "  Metadata:\n",
      "    major_brand     : mp42\n",
      "    minor_version   : 0\n",
      "    compatible_brands: mp42mp41\n",
      "    encoder         : Lavf57.83.100\n",
      "    Stream #0:0(eng): Video: h264 (libx264) (avc1 / 0x31637661), yuv420p, 640x360 [SAR 1:1 DAR 16:9], q=-1--1, 25 fps, 12800 tbn, 25 tbc (default)\n",
      "    Metadata:\n",
      "      creation_time   : 2021-08-02T19:15:48.000000Z\n",
      "      handler_name    : Alias Data Handler\n",
      "      encoder         : Lavc57.107.100 libx264\n",
      "    Side data:\n",
      "      cpb: bitrate max/min/avg: 0/0/0 buffer size: 0 vbv_delay: -1\n",
      "    Stream #0:1(eng): Audio: aac (LC) (mp4a / 0x6134706D), 48000 Hz, stereo, fltp, 128 kb/s (default)\n",
      "    Metadata:\n",
      "      creation_time   : 2021-08-02T19:15:48.000000Z\n",
      "      handler_name    : Alias Data Handler\n",
      "      encoder         : Lavc57.107.100 aac\n",
      "frame=  501 fps= 89 q=-1.0 Lsize=    1164kB time=00:00:20.03 bitrate= 476.0kbits/s speed=3.56x    \n",
      "video:830kB audio:318kB subtitle:0kB other streams:0kB global headers:0kB muxing overhead: 1.418781%\n",
      "\u001b[1;36m[libx264 @ 0x5628763235c0] \u001b[0mframe I:3     Avg QP:21.44  size:  9720\n",
      "\u001b[1;36m[libx264 @ 0x5628763235c0] \u001b[0mframe P:126   Avg QP:22.73  size:  4050\n",
      "\u001b[1;36m[libx264 @ 0x5628763235c0] \u001b[0mframe B:372   Avg QP:25.56  size:   833\n",
      "\u001b[1;36m[libx264 @ 0x5628763235c0] \u001b[0mconsecutive B-frames:  1.0%  0.0%  0.0% 99.0%\n",
      "\u001b[1;36m[libx264 @ 0x5628763235c0] \u001b[0mmb I  I16..4: 19.3% 69.4% 11.3%\n",
      "\u001b[1;36m[libx264 @ 0x5628763235c0] \u001b[0mmb P  I16..4:  2.5%  5.3%  0.5%  P16..4: 50.9% 17.4%  9.1%  0.0%  0.0%    skip:14.2%\n",
      "\u001b[1;36m[libx264 @ 0x5628763235c0] \u001b[0mmb B  I16..4:  0.1%  0.1%  0.0%  B16..8: 42.7%  2.3%  0.2%  direct: 1.0%  skip:53.5%  L0:43.1% L1:55.1% BI: 1.8%\n",
      "\u001b[1;36m[libx264 @ 0x5628763235c0] \u001b[0m8x8 transform intra:63.5% inter:85.0%\n",
      "\u001b[1;36m[libx264 @ 0x5628763235c0] \u001b[0mcoded y,uvDC,uvAC intra: 37.4% 62.7% 20.6% inter: 10.3% 19.4% 0.1%\n",
      "\u001b[1;36m[libx264 @ 0x5628763235c0] \u001b[0mi16 v,h,dc,p: 38% 25% 12% 24%\n",
      "\u001b[1;36m[libx264 @ 0x5628763235c0] \u001b[0mi8 v,h,dc,ddl,ddr,vr,hd,vl,hu: 25% 17% 36%  2%  3%  4%  4%  4%  3%\n",
      "\u001b[1;36m[libx264 @ 0x5628763235c0] \u001b[0mi4 v,h,dc,ddl,ddr,vr,hd,vl,hu: 36% 20% 12%  4%  5%  6%  6%  6%  4%\n",
      "\u001b[1;36m[libx264 @ 0x5628763235c0] \u001b[0mi8c dc,h,v,p: 53% 21% 20%  7%\n",
      "\u001b[1;36m[libx264 @ 0x5628763235c0] \u001b[0mWeighted P-Frames: Y:10.3% UV:2.4%\n",
      "\u001b[1;36m[libx264 @ 0x5628763235c0] \u001b[0mref P L0: 57.6% 13.6% 21.0%  6.8%  1.0%\n",
      "\u001b[1;36m[libx264 @ 0x5628763235c0] \u001b[0mref B L0: 92.0%  6.5%  1.5%\n",
      "\u001b[1;36m[libx264 @ 0x5628763235c0] \u001b[0mref B L1: 96.0%  4.0%\n",
      "\u001b[1;36m[libx264 @ 0x5628763235c0] \u001b[0mkb/s:339.05\n",
      "\u001b[1;36m[aac @ 0x56287646e6a0] \u001b[0mQavg: 1126.470\n"
     ]
    }
   ],
   "source": [
    "!ffmpeg -hide_banner -i 'Cosmos_War_of_the_Planets.mp4' -filter:v fps=fps=25 -aspect 16:9 -s 640x360 -ab 128000 'Cosmos_War_of_the_Planets_formatOK.mp4'"
   ]
  },
  {
   "cell_type": "markdown",
   "metadata": {},
   "source": [
    "### Listing out the stream details of Cosmos_War_of_the_Planets_formatOK.mp4"
   ]
  },
  {
   "cell_type": "code",
   "execution_count": 13,
   "metadata": {},
   "outputs": [
    {
     "name": "stdout",
     "output_type": "stream",
     "text": [
      "Input #0, mov,mp4,m4a,3gp,3g2,mj2, from 'Cosmos_War_of_the_Planets_formatOK.mp4':\r\n",
      "  Metadata:\r\n",
      "    major_brand     : isom\r\n",
      "    minor_version   : 512\r\n",
      "    compatible_brands: isomiso2avc1mp41\r\n",
      "    encoder         : Lavf57.83.100\r\n",
      "  Duration: 00:00:20.05, start: 0.000000, bitrate: 475 kb/s\r\n",
      "    Stream #0:0(eng): Video: h264 (High) (avc1 / 0x31637661), yuv420p, 640x360 [SAR 1:1 DAR 16:9], 339 kb/s, 25 fps, 25 tbr, 12800 tbn, 50 tbc (default)\r\n",
      "    Metadata:\r\n",
      "      handler_name    : VideoHandler\r\n",
      "    Stream #0:1(eng): Audio: aac (LC) (mp4a / 0x6134706D), 48000 Hz, stereo, fltp, 129 kb/s (default)\r\n",
      "    Metadata:\r\n",
      "      handler_name    : SoundHandler\r\n"
     ]
    }
   ],
   "source": [
    "!ffprobe -hide_banner Cosmos_War_of_the_Planets_formatOK.mp4"
   ]
  },
  {
   "cell_type": "markdown",
   "metadata": {},
   "source": [
    "### 2) The_Gun_and_the_Pulpit\n"
   ]
  },
  {
   "cell_type": "markdown",
   "metadata": {},
   "source": [
    "Changing the format of the video codec, audio codec,  video bit rate,aspect ratio, resolution ,  audio bit rate and audio channel "
   ]
  },
  {
   "cell_type": "code",
   "execution_count": 14,
   "metadata": {},
   "outputs": [
    {
     "name": "stdout",
     "output_type": "stream",
     "text": [
      "\u001b[0;33mGuessed Channel Layout for Input Stream #0.1 : stereo\n",
      "\u001b[0mInput #0, avi, from 'The_Gun_and_the_Pulpit.avi':\n",
      "  Duration: 00:00:20.00, start: 0.000000, bitrate: 88809 kb/s\n",
      "    Stream #0:0: Video: rawvideo (IYUV / 0x56555949), yuv420p, 720x404, 87438 kb/s, 25 fps, 25 tbr, 25 tbn, 25 tbc\n",
      "    Stream #0:1: Audio: pcm_s16le ([1][0][0][0] / 0x0001), 48000 Hz, stereo, s16, 1536 kb/s\n",
      "Stream mapping:\n",
      "  Stream #0:0 -> #0:0 (rawvideo (native) -> h264 (libx264))\n",
      "  Stream #0:1 -> #0:1 (pcm_s16le (native) -> aac (native))\n",
      "Press [q] to stop, [?] for help\n",
      "\u001b[1;34m[swscaler @ 0x5612909d0f40] \u001b[0m\u001b[0;33mWarning: data is not aligned! This can lead to a speed loss\n",
      "\u001b[0m\u001b[1;36m[libx264 @ 0x5612909bff40] \u001b[0musing SAR=1/1\n",
      "\u001b[1;36m[libx264 @ 0x5612909bff40] \u001b[0musing cpu capabilities: MMX2 SSE2Fast SSSE3 SSE4.2 AVX FMA3 BMI2 AVX2 AVX512\n",
      "\u001b[1;36m[libx264 @ 0x5612909bff40] \u001b[0mprofile High, level 3.0\n",
      "\u001b[1;36m[libx264 @ 0x5612909bff40] \u001b[0m264 - core 152 r2854 e9a5903 - H.264/MPEG-4 AVC codec - Copyleft 2003-2017 - http://www.videolan.org/x264.html - options: cabac=1 ref=3 deblock=1:0:0 analyse=0x3:0x113 me=hex subme=7 psy=1 psy_rd=1.00:0.00 mixed_ref=1 me_range=16 chroma_me=1 trellis=1 8x8dct=1 cqm=0 deadzone=21,11 fast_pskip=1 chroma_qp_offset=-2 threads=11 lookahead_threads=1 sliced_threads=0 nr=0 decimate=1 interlaced=0 bluray_compat=0 constrained_intra=0 bframes=3 b_pyramid=2 b_adapt=1 b_bias=0 direct=1 weightb=1 open_gop=0 weightp=2 keyint=250 keyint_min=25 scenecut=40 intra_refresh=0 rc_lookahead=40 rc=abr mbtree=1 bitrate=2250 ratetol=1.0 qcomp=0.60 qpmin=0 qpmax=69 qpstep=4 ip_ratio=1.40 aq=1:1.00\n",
      "Output #0, mp4, to 'The_Gun_and_the_Pulpit_formatOK.mp4':\n",
      "  Metadata:\n",
      "    encoder         : Lavf57.83.100\n",
      "    Stream #0:0: Video: h264 (libx264) (avc1 / 0x31637661), yuv420p(progressive), 640x360 [SAR 1:1 DAR 16:9], q=-1--1, 2250 kb/s, 25 fps, 12800 tbn, 25 tbc\n",
      "    Metadata:\n",
      "      encoder         : Lavc57.107.100 libx264\n",
      "    Side data:\n",
      "      cpb: bitrate max/min/avg: 0/0/2250000 buffer size: 0 vbv_delay: -1\n",
      "    Stream #0:1: Audio: aac (LC) (mp4a / 0x6134706D), 48000 Hz, stereo, fltp, 128 kb/s\n",
      "    Metadata:\n",
      "      encoder         : Lavc57.107.100 aac\n",
      "frame=  500 fps= 63 q=-1.0 Lsize=    5611kB time=00:00:20.01 bitrate=2297.0kbits/s speed=2.52x    \n",
      "video:5281kB audio:314kB subtitle:0kB other streams:0kB global headers:0kB muxing overhead: 0.285431%\n",
      "\u001b[1;36m[libx264 @ 0x5612909bff40] \u001b[0mframe I:17    Avg QP:12.05  size: 27274\n",
      "\u001b[1;36m[libx264 @ 0x5612909bff40] \u001b[0mframe P:156   Avg QP:14.20  size: 17281\n",
      "\u001b[1;36m[libx264 @ 0x5612909bff40] \u001b[0mframe B:327   Avg QP:16.48  size:  6872\n",
      "\u001b[1;36m[libx264 @ 0x5612909bff40] \u001b[0mconsecutive B-frames: 10.0%  5.6%  8.4% 76.0%\n",
      "\u001b[1;36m[libx264 @ 0x5612909bff40] \u001b[0mmb I  I16..4:  9.5% 49.8% 40.7%\n",
      "\u001b[1;36m[libx264 @ 0x5612909bff40] \u001b[0mmb P  I16..4:  3.2% 30.0% 13.3%  P16..4: 17.3% 21.6% 11.8%  0.0%  0.0%    skip: 2.7%\n",
      "\u001b[1;36m[libx264 @ 0x5612909bff40] \u001b[0mmb B  I16..4:  0.6%  5.8%  3.5%  B16..8: 36.1% 22.8%  7.2%  direct: 5.9%  skip:18.1%  L0:48.1% L1:39.6% BI:12.3%\n",
      "\u001b[1;36m[libx264 @ 0x5612909bff40] \u001b[0mfinal ratefactor: 12.00\n",
      "\u001b[1;36m[libx264 @ 0x5612909bff40] \u001b[0m8x8 transform intra:60.9% inter:56.9%\n",
      "\u001b[1;36m[libx264 @ 0x5612909bff40] \u001b[0mcoded y,uvDC,uvAC intra: 86.3% 87.4% 66.6% inter: 39.3% 34.4% 8.5%\n",
      "\u001b[1;36m[libx264 @ 0x5612909bff40] \u001b[0mi16 v,h,dc,p: 70%  9%  6% 15%\n",
      "\u001b[1;36m[libx264 @ 0x5612909bff40] \u001b[0mi8 v,h,dc,ddl,ddr,vr,hd,vl,hu: 37% 21%  9%  4%  5%  7%  6%  6%  6%\n",
      "\u001b[1;36m[libx264 @ 0x5612909bff40] \u001b[0mi4 v,h,dc,ddl,ddr,vr,hd,vl,hu: 38% 23%  7%  4%  6%  6%  7%  5%  5%\n",
      "\u001b[1;36m[libx264 @ 0x5612909bff40] \u001b[0mi8c dc,h,v,p: 50% 16% 28%  7%\n",
      "\u001b[1;36m[libx264 @ 0x5612909bff40] \u001b[0mWeighted P-Frames: Y:4.5% UV:1.9%\n",
      "\u001b[1;36m[libx264 @ 0x5612909bff40] \u001b[0mref P L0: 72.2% 11.0% 13.2%  3.6%  0.0%\n",
      "\u001b[1;36m[libx264 @ 0x5612909bff40] \u001b[0mref B L0: 94.6%  4.7%  0.8%\n",
      "\u001b[1;36m[libx264 @ 0x5612909bff40] \u001b[0mref B L1: 98.3%  1.7%\n",
      "\u001b[1;36m[libx264 @ 0x5612909bff40] \u001b[0mkb/s:2162.64\n",
      "\u001b[1;36m[aac @ 0x5612909c3880] \u001b[0mQavg: 626.841\n"
     ]
    }
   ],
   "source": [
    "!ffmpeg -hide_banner -i 'The_Gun_and_the_Pulpit.avi' -vcodec h264 -acodec aac -vb 2250000  -aspect 16:9 -s 640x360 -ab 128000 -ac 2 'The_Gun_and_the_Pulpit_formatOK.mp4'"
   ]
  },
  {
   "cell_type": "markdown",
   "metadata": {},
   "source": [
    "### Listing out the stream details of The_Gun_and_the_Pulpit_formatOK.mp4"
   ]
  },
  {
   "cell_type": "code",
   "execution_count": 15,
   "metadata": {},
   "outputs": [
    {
     "name": "stdout",
     "output_type": "stream",
     "text": [
      "Input #0, mov,mp4,m4a,3gp,3g2,mj2, from 'The_Gun_and_the_Pulpit_formatOK.mp4':\r\n",
      "  Metadata:\r\n",
      "    major_brand     : isom\r\n",
      "    minor_version   : 512\r\n",
      "    compatible_brands: isomiso2avc1mp41\r\n",
      "    encoder         : Lavf57.83.100\r\n",
      "  Duration: 00:00:20.02, start: 0.000000, bitrate: 2295 kb/s\r\n",
      "    Stream #0:0(und): Video: h264 (High) (avc1 / 0x31637661), yuv420p, 640x360 [SAR 1:1 DAR 16:9], 2162 kb/s, 25 fps, 25 tbr, 12800 tbn, 50 tbc (default)\r\n",
      "    Metadata:\r\n",
      "      handler_name    : VideoHandler\r\n",
      "    Stream #0:1(und): Audio: aac (LC) (mp4a / 0x6134706D), 48000 Hz, stereo, fltp, 128 kb/s (default)\r\n",
      "    Metadata:\r\n",
      "      handler_name    : SoundHandler\r\n"
     ]
    }
   ],
   "source": [
    "!ffprobe -hide_banner The_Gun_and_the_Pulpit_formatOK.mp4"
   ]
  },
  {
   "cell_type": "markdown",
   "metadata": {},
   "source": [
    "### 3) The_Hill_Gang_Rides_Again.mp4"
   ]
  },
  {
   "cell_type": "markdown",
   "metadata": {},
   "source": [
    "Changing the video bit rate"
   ]
  },
  {
   "cell_type": "code",
   "execution_count": 16,
   "metadata": {},
   "outputs": [
    {
     "name": "stdout",
     "output_type": "stream",
     "text": [
      "Input #0, mov,mp4,m4a,3gp,3g2,mj2, from 'The_Hill_Gang_Rides_Again.mp4':\n",
      "  Metadata:\n",
      "    major_brand     : mp42\n",
      "    minor_version   : 0\n",
      "    compatible_brands: mp42mp41\n",
      "    creation_time   : 2021-08-02T18:46:51.000000Z\n",
      "  Duration: 00:00:20.04, start: 0.000000, bitrate: 7784 kb/s\n",
      "    Stream #0:0(eng): Video: h264 (Main) (avc1 / 0x31637661), yuv420p, 640x360 [SAR 1:1 DAR 16:9], 7537 kb/s, 25 fps, 25 tbr, 25k tbn, 50 tbc (default)\n",
      "    Metadata:\n",
      "      creation_time   : 2021-08-02T18:46:51.000000Z\n",
      "      handler_name    : Alias Data Handler\n",
      "      encoder         : AVC Coding\n",
      "    Stream #0:1(eng): Audio: aac (LC) (mp4a / 0x6134706D), 44100 Hz, stereo, fltp, 253 kb/s (default)\n",
      "    Metadata:\n",
      "      creation_time   : 2021-08-02T18:46:51.000000Z\n",
      "      handler_name    : Alias Data Handler\n",
      "Stream mapping:\n",
      "  Stream #0:0 -> #0:0 (h264 (native) -> h264 (libx264))\n",
      "  Stream #0:1 -> #0:1 (aac (native) -> aac (native))\n",
      "Press [q] to stop, [?] for help\n",
      "\u001b[1;36m[libx264 @ 0x55ab7e6a46e0] \u001b[0musing SAR=1/1\n",
      "\u001b[1;36m[libx264 @ 0x55ab7e6a46e0] \u001b[0musing cpu capabilities: MMX2 SSE2Fast SSSE3 SSE4.2 AVX FMA3 BMI2 AVX2 AVX512\n",
      "\u001b[1;36m[libx264 @ 0x55ab7e6a46e0] \u001b[0mprofile High, level 3.0\n",
      "\u001b[1;36m[libx264 @ 0x55ab7e6a46e0] \u001b[0m264 - core 152 r2854 e9a5903 - H.264/MPEG-4 AVC codec - Copyleft 2003-2017 - http://www.videolan.org/x264.html - options: cabac=1 ref=3 deblock=1:0:0 analyse=0x3:0x113 me=hex subme=7 psy=1 psy_rd=1.00:0.00 mixed_ref=1 me_range=16 chroma_me=1 trellis=1 8x8dct=1 cqm=0 deadzone=21,11 fast_pskip=1 chroma_qp_offset=-2 threads=11 lookahead_threads=1 sliced_threads=0 nr=0 decimate=1 interlaced=0 bluray_compat=0 constrained_intra=0 bframes=3 b_pyramid=2 b_adapt=1 b_bias=0 direct=1 weightb=1 open_gop=0 weightp=2 keyint=250 keyint_min=25 scenecut=40 intra_refresh=0 rc_lookahead=40 rc=abr mbtree=1 bitrate=2250 ratetol=1.0 qcomp=0.60 qpmin=0 qpmax=69 qpstep=4 ip_ratio=1.40 aq=1:1.00\n",
      "Output #0, mp4, to 'The_Hill_Gang_Rides_Again_formatOK.mp4':\n",
      "  Metadata:\n",
      "    major_brand     : mp42\n",
      "    minor_version   : 0\n",
      "    compatible_brands: mp42mp41\n",
      "    encoder         : Lavf57.83.100\n",
      "    Stream #0:0(eng): Video: h264 (libx264) (avc1 / 0x31637661), yuv420p, 640x360 [SAR 1:1 DAR 16:9], q=-1--1, 2250 kb/s, 25 fps, 12800 tbn, 25 tbc (default)\n",
      "    Metadata:\n",
      "      creation_time   : 2021-08-02T18:46:51.000000Z\n",
      "      handler_name    : Alias Data Handler\n",
      "      encoder         : Lavc57.107.100 libx264\n",
      "    Side data:\n",
      "      cpb: bitrate max/min/avg: 0/0/2250000 buffer size: 0 vbv_delay: -1\n",
      "    Stream #0:1(eng): Audio: aac (LC) (mp4a / 0x6134706D), 44100 Hz, stereo, fltp, 128 kb/s (default)\n",
      "    Metadata:\n",
      "      creation_time   : 2021-08-02T18:46:51.000000Z\n",
      "      handler_name    : Alias Data Handler\n",
      "      encoder         : Lavc57.107.100 aac\n",
      "frame=  500 fps= 54 q=-1.0 Lsize=    5786kB time=00:00:20.01 bitrate=2367.9kbits/s speed=2.16x    \n",
      "video:5452kB audio:315kB subtitle:0kB other streams:0kB global headers:0kB muxing overhead: 0.306607%\n",
      "\u001b[1;36m[libx264 @ 0x55ab7e6a46e0] \u001b[0mframe I:4     Avg QP: 8.22  size: 34714\n",
      "\u001b[1;36m[libx264 @ 0x55ab7e6a46e0] \u001b[0mframe P:130   Avg QP: 8.28  size: 27542\n",
      "\u001b[1;36m[libx264 @ 0x55ab7e6a46e0] \u001b[0mframe B:366   Avg QP:11.88  size:  5091\n",
      "\u001b[1;36m[libx264 @ 0x55ab7e6a46e0] \u001b[0mconsecutive B-frames:  2.0%  0.8%  1.2% 96.0%\n",
      "\u001b[1;36m[libx264 @ 0x55ab7e6a46e0] \u001b[0mmb I  I16..4:  9.2% 47.9% 43.0%\n",
      "\u001b[1;36m[libx264 @ 0x55ab7e6a46e0] \u001b[0mmb P  I16..4:  1.9% 22.1% 10.4%  P16..4: 17.1% 25.6% 20.9%  0.0%  0.0%    skip: 2.0%\n",
      "\u001b[1;36m[libx264 @ 0x55ab7e6a46e0] \u001b[0mmb B  I16..4:  0.1%  0.7%  0.3%  B16..8: 37.8% 20.2% 10.2%  direct: 8.2%  skip:22.4%  L0:43.2% L1:41.1% BI:15.7%\n",
      "\u001b[1;36m[libx264 @ 0x55ab7e6a46e0] \u001b[0mfinal ratefactor: 9.08\n",
      "\u001b[1;36m[libx264 @ 0x55ab7e6a46e0] \u001b[0m8x8 transform intra:62.9% inter:44.8%\n",
      "\u001b[1;36m[libx264 @ 0x55ab7e6a46e0] \u001b[0mcoded y,uvDC,uvAC intra: 95.6% 87.7% 84.3% inter: 38.5% 40.7% 15.9%\n",
      "\u001b[1;36m[libx264 @ 0x55ab7e6a46e0] \u001b[0mi16 v,h,dc,p: 34% 13% 20% 33%\n",
      "\u001b[1;36m[libx264 @ 0x55ab7e6a46e0] \u001b[0mi8 v,h,dc,ddl,ddr,vr,hd,vl,hu: 36% 18% 12%  3%  5%  7%  6%  6%  7%\n",
      "\u001b[1;36m[libx264 @ 0x55ab7e6a46e0] \u001b[0mi4 v,h,dc,ddl,ddr,vr,hd,vl,hu: 33% 19% 10%  5%  8%  7%  7%  5%  5%\n",
      "\u001b[1;36m[libx264 @ 0x55ab7e6a46e0] \u001b[0mi8c dc,h,v,p: 54% 14% 25%  7%\n",
      "\u001b[1;36m[libx264 @ 0x55ab7e6a46e0] \u001b[0mWeighted P-Frames: Y:12.3% UV:9.2%\n",
      "\u001b[1;36m[libx264 @ 0x55ab7e6a46e0] \u001b[0mref P L0: 71.7% 10.2% 14.0%  3.9%  0.2%\n",
      "\u001b[1;36m[libx264 @ 0x55ab7e6a46e0] \u001b[0mref B L0: 95.0%  4.3%  0.6%\n",
      "\u001b[1;36m[libx264 @ 0x55ab7e6a46e0] \u001b[0mref B L1: 98.4%  1.6%\n",
      "\u001b[1;36m[libx264 @ 0x55ab7e6a46e0] \u001b[0mkb/s:2233.01\n",
      "\u001b[1;36m[aac @ 0x55ab7e6d2720] \u001b[0mQavg: 13686.085\n"
     ]
    }
   ],
   "source": [
    "!ffmpeg -hide_banner -i 'The_Hill_Gang_Rides_Again.mp4'  -vb 2250000 'The_Hill_Gang_Rides_Again_formatOK.mp4'"
   ]
  },
  {
   "cell_type": "markdown",
   "metadata": {},
   "source": [
    "### Listing out the stream details of  The_Hill_Gang_Rides_Again_formatOK.mp4"
   ]
  },
  {
   "cell_type": "code",
   "execution_count": 17,
   "metadata": {},
   "outputs": [
    {
     "name": "stdout",
     "output_type": "stream",
     "text": [
      "Input #0, mov,mp4,m4a,3gp,3g2,mj2, from 'The_Hill_Gang_Rides_Again_formatOK.mp4':\r\n",
      "  Metadata:\r\n",
      "    major_brand     : isom\r\n",
      "    minor_version   : 512\r\n",
      "    compatible_brands: isomiso2avc1mp41\r\n",
      "    encoder         : Lavf57.83.100\r\n",
      "  Duration: 00:00:20.04, start: 0.000000, bitrate: 2365 kb/s\r\n",
      "    Stream #0:0(eng): Video: h264 (High) (avc1 / 0x31637661), yuv420p, 640x360 [SAR 1:1 DAR 16:9], 2233 kb/s, 25 fps, 25 tbr, 12800 tbn, 50 tbc (default)\r\n",
      "    Metadata:\r\n",
      "      handler_name    : VideoHandler\r\n",
      "    Stream #0:1(eng): Audio: aac (LC) (mp4a / 0x6134706D), 44100 Hz, stereo, fltp, 128 kb/s (default)\r\n",
      "    Metadata:\r\n",
      "      handler_name    : SoundHandler\r\n"
     ]
    }
   ],
   "source": [
    "!ffprobe -hide_banner The_Hill_Gang_Rides_Again_formatOK.mp4"
   ]
  },
  {
   "cell_type": "markdown",
   "metadata": {},
   "source": [
    "### 4) Last_man_on_earth_1964.mov\n",
    "\n",
    "Changing the video codec, audio codec, frame rate, video bit rate and audio bit rate"
   ]
  },
  {
   "cell_type": "code",
   "execution_count": 18,
   "metadata": {},
   "outputs": [
    {
     "name": "stdout",
     "output_type": "stream",
     "text": [
      "Input #0, mov,mp4,m4a,3gp,3g2,mj2, from 'Last_man_on_earth_1964.mov':\n",
      "  Metadata:\n",
      "    major_brand     : qt  \n",
      "    minor_version   : 537199360\n",
      "    compatible_brands: qt  \n",
      "    creation_time   : 2021-08-02T18:38:19.000000Z\n",
      "  Duration: 00:00:20.02, start: 0.000000, bitrate: 11240 kb/s\n",
      "    Stream #0:0(eng): Video: prores (apcs / 0x73637061), yuv422p10le(smpte170m/smpte170m/bt709, progressive), 640x360, 9285 kb/s, SAR 1:1 DAR 16:9, 23.98 fps, 23.98 tbr, 24k tbn, 24k tbc (default)\n",
      "    Metadata:\n",
      "      creation_time   : 2021-08-02T18:38:19.000000Z\n",
      "      handler_name    : Apple Alias Data Handler\n",
      "      encoder         : Apple ProRes 422 LT\n",
      "      timecode        : 00:51:43:11\n",
      "    Stream #0:1(eng): Audio: pcm_s16le (sowt / 0x74776F73), 48000 Hz, stereo, s16, 1536 kb/s (default)\n",
      "    Metadata:\n",
      "      creation_time   : 2021-08-02T18:38:19.000000Z\n",
      "      handler_name    : Apple Alias Data Handler\n",
      "      timecode        : 00:51:43:11\n",
      "    Stream #0:2(eng): Data: none (tmcd / 0x64636D74), 0 kb/s (default)\n",
      "    Metadata:\n",
      "      creation_time   : 2021-08-02T18:38:19.000000Z\n",
      "      handler_name    : Apple Alias Data Handler\n",
      "      timecode        : 00:51:43:11\n",
      "Stream mapping:\n",
      "  Stream #0:0 -> #0:0 (prores (native) -> h264 (libx264))\n",
      "  Stream #0:1 -> #0:1 (pcm_s16le (native) -> aac (native))\n",
      "Press [q] to stop, [?] for help\n",
      "\u001b[1;36m[libx264 @ 0x55c499628380] \u001b[0musing SAR=1/1\n",
      "\u001b[1;36m[libx264 @ 0x55c499628380] \u001b[0musing cpu capabilities: MMX2 SSE2Fast SSSE3 SSE4.2 AVX FMA3 BMI2 AVX2 AVX512\n",
      "\u001b[1;36m[libx264 @ 0x55c499628380] \u001b[0mprofile High 4:2:2, level 3.0, 4:2:2 8-bit\n",
      "\u001b[1;36m[libx264 @ 0x55c499628380] \u001b[0m264 - core 152 r2854 e9a5903 - H.264/MPEG-4 AVC codec - Copyleft 2003-2017 - http://www.videolan.org/x264.html - options: cabac=1 ref=3 deblock=1:0:0 analyse=0x3:0x113 me=hex subme=7 psy=1 psy_rd=1.00:0.00 mixed_ref=1 me_range=16 chroma_me=1 trellis=1 8x8dct=1 cqm=0 deadzone=21,11 fast_pskip=1 chroma_qp_offset=-2 threads=11 lookahead_threads=1 sliced_threads=0 nr=0 decimate=1 interlaced=0 bluray_compat=0 constrained_intra=0 bframes=3 b_pyramid=2 b_adapt=1 b_bias=0 direct=1 weightb=1 open_gop=0 weightp=2 keyint=250 keyint_min=25 scenecut=40 intra_refresh=0 rc_lookahead=40 rc=abr mbtree=1 bitrate=2250 ratetol=1.0 qcomp=0.60 qpmin=0 qpmax=69 qpstep=4 ip_ratio=1.40 aq=1:1.00\n",
      "Output #0, mp4, to 'Last_man_on_earth_1964_formatOK.mp4':\n",
      "  Metadata:\n",
      "    major_brand     : qt  \n",
      "    minor_version   : 537199360\n",
      "    compatible_brands: qt  \n",
      "    encoder         : Lavf57.83.100\n",
      "    Stream #0:0(eng): Video: h264 (libx264) (avc1 / 0x31637661), yuv422p(progressive), 640x360 [SAR 1:1 DAR 16:9], q=-1--1, 2250 kb/s, 25 fps, 12800 tbn, 25 tbc (default)\n",
      "    Metadata:\n",
      "      creation_time   : 2021-08-02T18:38:19.000000Z\n",
      "      handler_name    : Apple Alias Data Handler\n",
      "      timecode        : 00:51:43:11\n",
      "      encoder         : Lavc57.107.100 libx264\n",
      "    Side data:\n",
      "      cpb: bitrate max/min/avg: 0/0/2250000 buffer size: 0 vbv_delay: -1\n",
      "    Stream #0:1(eng): Audio: aac (LC) (mp4a / 0x6134706D), 48000 Hz, stereo, fltp, 128 kb/s (default)\n",
      "    Metadata:\n",
      "      creation_time   : 2021-08-02T18:38:19.000000Z\n",
      "      handler_name    : Apple Alias Data Handler\n",
      "      timecode        : 00:51:43:11\n",
      "      encoder         : Lavc57.107.100 aac\n",
      "frame=  501 fps= 54 q=-1.0 Lsize=    5995kB time=00:00:20.03 bitrate=2451.6kbits/s speed=2.15x    \n",
      "video:5665kB audio:313kB subtitle:0kB other streams:0kB global headers:0kB muxing overhead: 0.278888%\n",
      "\u001b[1;36m[libx264 @ 0x55c499628380] \u001b[0mframe I:6     Avg QP: 8.70  size: 45322\n",
      "\u001b[1;36m[libx264 @ 0x55c499628380] \u001b[0mframe P:131   Avg QP:10.00  size: 24863\n",
      "\u001b[1;36m[libx264 @ 0x55c499628380] \u001b[0mframe B:364   Avg QP:12.92  size:  6241\n",
      "\u001b[1;36m[libx264 @ 0x55c499628380] \u001b[0mconsecutive B-frames:  1.8%  2.4%  4.8% 91.0%\n",
      "\u001b[1;36m[libx264 @ 0x55c499628380] \u001b[0mmb I  I16..4: 26.5% 50.0% 23.4%\n",
      "\u001b[1;36m[libx264 @ 0x55c499628380] \u001b[0mmb P  I16..4:  0.2% 11.2%  1.6%  P16..4: 33.9% 26.0% 22.1%  0.0%  0.0%    skip: 5.0%\n",
      "\u001b[1;36m[libx264 @ 0x55c499628380] \u001b[0mmb B  I16..4:  0.0%  3.5%  0.1%  B16..8: 35.0% 14.0%  7.4%  direct:12.1%  skip:27.7%  L0:45.6% L1:36.1% BI:18.3%\n",
      "\u001b[1;36m[libx264 @ 0x55c499628380] \u001b[0mfinal ratefactor: 11.26\n",
      "\u001b[1;36m[libx264 @ 0x55c499628380] \u001b[0m8x8 transform intra:84.0% inter:47.1%\n",
      "\u001b[1;36m[libx264 @ 0x55c499628380] \u001b[0mcoded y,uvDC,uvAC intra: 95.2% 93.8% 92.1% inter: 42.1% 5.5% 2.0%\n",
      "\u001b[1;36m[libx264 @ 0x55c499628380] \u001b[0mi16 v,h,dc,p: 59% 12% 21%  8%\n",
      "\u001b[1;36m[libx264 @ 0x55c499628380] \u001b[0mi8 v,h,dc,ddl,ddr,vr,hd,vl,hu: 27% 13% 39%  3%  3%  3%  3%  4%  5%\n",
      "\u001b[1;36m[libx264 @ 0x55c499628380] \u001b[0mi4 v,h,dc,ddl,ddr,vr,hd,vl,hu: 34% 14%  9%  6%  8%  8%  6%  7%  7%\n",
      "\u001b[1;36m[libx264 @ 0x55c499628380] \u001b[0mi8c dc,h,v,p: 96%  0%  4%  0%\n",
      "\u001b[1;36m[libx264 @ 0x55c499628380] \u001b[0mWeighted P-Frames: Y:3.8% UV:0.0%\n",
      "\u001b[1;36m[libx264 @ 0x55c499628380] \u001b[0mref P L0: 58.8%  8.9% 20.3% 11.6%  0.5%\n",
      "\u001b[1;36m[libx264 @ 0x55c499628380] \u001b[0mref B L0: 88.6%  9.4%  2.1%\n",
      "\u001b[1;36m[libx264 @ 0x55c499628380] \u001b[0mref B L1: 96.0%  4.0%\n",
      "\u001b[1;36m[libx264 @ 0x55c499628380] \u001b[0mkb/s:2315.67\n",
      "\u001b[1;36m[aac @ 0x55c499734440] \u001b[0mQavg: 1277.942\n"
     ]
    }
   ],
   "source": [
    "!ffmpeg -hide_banner -i 'Last_man_on_earth_1964.mov' -vcodec h264 -acodec aac -filter:v fps=fps=25 -vb 2250000 -ab 128000 'Last_man_on_earth_1964_formatOK.mp4'"
   ]
  },
  {
   "cell_type": "markdown",
   "metadata": {},
   "source": [
    "### Listing out the stream details of Last_man_on_earth_1964_formatOK.mp4"
   ]
  },
  {
   "cell_type": "code",
   "execution_count": 19,
   "metadata": {},
   "outputs": [
    {
     "name": "stdout",
     "output_type": "stream",
     "text": [
      "Input #0, mov,mp4,m4a,3gp,3g2,mj2, from 'Last_man_on_earth_1964_formatOK.mp4':\r\n",
      "  Metadata:\r\n",
      "    major_brand     : isom\r\n",
      "    minor_version   : 512\r\n",
      "    compatible_brands: isomiso2avc1mp41\r\n",
      "    encoder         : Lavf57.83.100\r\n",
      "  Duration: 00:00:20.04, start: 0.000000, bitrate: 2450 kb/s\r\n",
      "    Stream #0:0(eng): Video: h264 (High 4:2:2) (avc1 / 0x31637661), yuv422p, 640x360 [SAR 1:1 DAR 16:9], 2315 kb/s, 25 fps, 25 tbr, 12800 tbn, 50 tbc (default)\r\n",
      "    Metadata:\r\n",
      "      handler_name    : VideoHandler\r\n",
      "      timecode        : 00:51:43:11\r\n",
      "    Stream #0:1(eng): Audio: aac (LC) (mp4a / 0x6134706D), 48000 Hz, stereo, fltp, 127 kb/s (default)\r\n",
      "    Metadata:\r\n",
      "      handler_name    : SoundHandler\r\n",
      "    Stream #0:2(eng): Data: none (tmcd / 0x64636D74), 0 kb/s\r\n",
      "    Metadata:\r\n",
      "      handler_name    : TimeCodeHandler\r\n",
      "      timecode        : 00:51:43:11\r\n",
      "\u001b[0;33mUnsupported codec with id 0 for input stream 2\r\n",
      "\u001b[0m"
     ]
    }
   ],
   "source": [
    "!ffprobe -hide_banner  Last_man_on_earth_1964_formatOK.mp4"
   ]
  },
  {
   "cell_type": "markdown",
   "metadata": {},
   "source": [
    "### 5) Voyage_to_the_Planet_of_Prehistoric_Women.mp4\n",
    "\n",
    "Changing video codec, audio codec,frame rate, video vit rate and audio bit rate"
   ]
  },
  {
   "cell_type": "code",
   "execution_count": 20,
   "metadata": {},
   "outputs": [
    {
     "name": "stdout",
     "output_type": "stream",
     "text": [
      "Input #0, mov,mp4,m4a,3gp,3g2,mj2, from 'Voyage_to_the_Planet_of_Prehistoric_Women.mp4':\n",
      "  Metadata:\n",
      "    major_brand     : mp42\n",
      "    minor_version   : 0\n",
      "    compatible_brands: mp42mp41\n",
      "    creation_time   : 2021-08-02T19:26:10.000000Z\n",
      "  Duration: 00:00:20.09, start: 0.000000, bitrate: 8337 kb/s\n",
      "    Stream #0:0(eng): Video: hevc (Main) (hvc1 / 0x31637668), yuv420p(tv, bt709), 640x360 [SAR 1:1 DAR 16:9], 8038 kb/s, 29.97 fps, 29.97 tbr, 30k tbn, 29.97 tbc (default)\n",
      "    Metadata:\n",
      "      creation_time   : 2021-08-02T19:26:10.000000Z\n",
      "      handler_name    : Alias Data Handler\n",
      "      encoder         : HEVC Coding\n",
      "    Stream #0:1(eng): Audio: mp3 (mp4a / 0x6134706D), 48000 Hz, stereo, s16p, 320 kb/s (default)\n",
      "    Metadata:\n",
      "      creation_time   : 2021-08-02T19:26:10.000000Z\n",
      "      handler_name    : Alias Data Handler\n",
      "Stream mapping:\n",
      "  Stream #0:0 -> #0:0 (hevc (native) -> h264 (libx264))\n",
      "  Stream #0:1 -> #0:1 (mp3 (native) -> aac (native))\n",
      "Press [q] to stop, [?] for help\n",
      "\u001b[1;36m[libx264 @ 0x5624ac65b540] \u001b[0musing SAR=1/1\n",
      "\u001b[1;36m[libx264 @ 0x5624ac65b540] \u001b[0musing cpu capabilities: MMX2 SSE2Fast SSSE3 SSE4.2 AVX FMA3 BMI2 AVX2 AVX512\n",
      "\u001b[1;36m[libx264 @ 0x5624ac65b540] \u001b[0mprofile High, level 3.0\n",
      "\u001b[1;36m[libx264 @ 0x5624ac65b540] \u001b[0m264 - core 152 r2854 e9a5903 - H.264/MPEG-4 AVC codec - Copyleft 2003-2017 - http://www.videolan.org/x264.html - options: cabac=1 ref=3 deblock=1:0:0 analyse=0x3:0x113 me=hex subme=7 psy=1 psy_rd=1.00:0.00 mixed_ref=1 me_range=16 chroma_me=1 trellis=1 8x8dct=1 cqm=0 deadzone=21,11 fast_pskip=1 chroma_qp_offset=-2 threads=11 lookahead_threads=1 sliced_threads=0 nr=0 decimate=1 interlaced=0 bluray_compat=0 constrained_intra=0 bframes=3 b_pyramid=2 b_adapt=1 b_bias=0 direct=1 weightb=1 open_gop=0 weightp=2 keyint=250 keyint_min=25 scenecut=40 intra_refresh=0 rc_lookahead=40 rc=abr mbtree=1 bitrate=2250 ratetol=1.0 qcomp=0.60 qpmin=0 qpmax=69 qpstep=4 ip_ratio=1.40 aq=1:1.00\n",
      "Output #0, mp4, to 'Voyage_to_the_Planet_of_Prehistoric_Women_formatOK.mp4':\n",
      "  Metadata:\n",
      "    major_brand     : mp42\n",
      "    minor_version   : 0\n",
      "    compatible_brands: mp42mp41\n",
      "    encoder         : Lavf57.83.100\n",
      "    Stream #0:0(eng): Video: h264 (libx264) (avc1 / 0x31637661), yuv420p, 640x360 [SAR 1:1 DAR 16:9], q=-1--1, 2250 kb/s, 25 fps, 12800 tbn, 25 tbc (default)\n",
      "    Metadata:\n",
      "      creation_time   : 2021-08-02T19:26:10.000000Z\n",
      "      handler_name    : Alias Data Handler\n",
      "      encoder         : Lavc57.107.100 libx264\n",
      "    Side data:\n",
      "      cpb: bitrate max/min/avg: 0/0/2250000 buffer size: 0 vbv_delay: -1\n",
      "    Stream #0:1(eng): Audio: aac (LC) (mp4a / 0x6134706D), 48000 Hz, stereo, fltp, 128 kb/s (default)\n",
      "    Metadata:\n",
      "      creation_time   : 2021-08-02T19:26:10.000000Z\n",
      "      handler_name    : Alias Data Handler\n",
      "      encoder         : Lavc57.107.100 aac\n",
      "frame=  501 fps= 49 q=-1.0 Lsize=    5559kB time=00:00:20.05 bitrate=2271.1kbits/s speed=1.95x    \n",
      "video:5229kB audio:314kB subtitle:0kB other streams:0kB global headers:0kB muxing overhead: 0.293387%\n",
      "\u001b[1;36m[libx264 @ 0x5624ac65b540] \u001b[0mframe I:5     Avg QP: 6.99  size: 40688\n",
      "\u001b[1;36m[libx264 @ 0x5624ac65b540] \u001b[0mframe P:134   Avg QP: 9.88  size: 23402\n",
      "\u001b[1;36m[libx264 @ 0x5624ac65b540] \u001b[0mframe B:362   Avg QP:13.73  size:  5565\n",
      "\u001b[1;36m[libx264 @ 0x5624ac65b540] \u001b[0mconsecutive B-frames:  2.6%  2.4%  2.4% 92.6%\n",
      "\u001b[1;36m[libx264 @ 0x5624ac65b540] \u001b[0mmb I  I16..4: 17.2% 44.4% 38.4%\n",
      "\u001b[1;36m[libx264 @ 0x5624ac65b540] \u001b[0mmb P  I16..4:  3.3% 18.2%  6.5%  P16..4: 19.3% 23.8% 18.3%  0.0%  0.0%    skip:10.6%\n",
      "\u001b[1;36m[libx264 @ 0x5624ac65b540] \u001b[0mmb B  I16..4:  0.1%  0.7%  0.3%  B16..8: 39.3% 19.4%  8.3%  direct: 7.2%  skip:24.7%  L0:45.8% L1:39.5% BI:14.8%\n",
      "\u001b[1;36m[libx264 @ 0x5624ac65b540] \u001b[0mfinal ratefactor: 10.86\n",
      "\u001b[1;36m[libx264 @ 0x5624ac65b540] \u001b[0m8x8 transform intra:62.7% inter:54.3%\n",
      "\u001b[1;36m[libx264 @ 0x5624ac65b540] \u001b[0mcoded y,uvDC,uvAC intra: 83.2% 93.9% 93.3% inter: 32.4% 53.5% 22.4%\n",
      "\u001b[1;36m[libx264 @ 0x5624ac65b540] \u001b[0mi16 v,h,dc,p: 64% 10%  9% 16%\n",
      "\u001b[1;36m[libx264 @ 0x5624ac65b540] \u001b[0mi8 v,h,dc,ddl,ddr,vr,hd,vl,hu: 25% 17% 17%  5%  6%  7%  6%  9%  8%\n",
      "\u001b[1;36m[libx264 @ 0x5624ac65b540] \u001b[0mi4 v,h,dc,ddl,ddr,vr,hd,vl,hu: 28% 17% 13%  6%  9%  8%  6%  8%  6%\n",
      "\u001b[1;36m[libx264 @ 0x5624ac65b540] \u001b[0mi8c dc,h,v,p: 50% 14% 23% 13%\n",
      "\u001b[1;36m[libx264 @ 0x5624ac65b540] \u001b[0mWeighted P-Frames: Y:16.4% UV:8.2%\n",
      "\u001b[1;36m[libx264 @ 0x5624ac65b540] \u001b[0mref P L0: 66.3% 13.5% 14.7%  4.8%  0.7%\n",
      "\u001b[1;36m[libx264 @ 0x5624ac65b540] \u001b[0mref B L0: 94.3%  4.9%  0.8%\n",
      "\u001b[1;36m[libx264 @ 0x5624ac65b540] \u001b[0mref B L1: 98.2%  1.8%\n",
      "\u001b[1;36m[libx264 @ 0x5624ac65b540] \u001b[0mkb/s:2137.30\n",
      "\u001b[1;36m[aac @ 0x5624ac6996c0] \u001b[0mQavg: 563.782\n"
     ]
    }
   ],
   "source": [
    "!ffmpeg -hide_banner -i 'Voyage_to_the_Planet_of_Prehistoric_Women.mp4' -vcodec h264 -acodec aac -filter:v fps=fps=25 -vb 2250000 -ab 128000 'Voyage_to_the_Planet_of_Prehistoric_Women_formatOK.mp4'"
   ]
  },
  {
   "cell_type": "markdown",
   "metadata": {},
   "source": [
    "### Listing out the stream details of Voyage_to_the_Planet_of_Prehistoric_Women_formatOK.mp4"
   ]
  },
  {
   "cell_type": "code",
   "execution_count": 21,
   "metadata": {},
   "outputs": [
    {
     "name": "stdout",
     "output_type": "stream",
     "text": [
      "Input #0, mov,mp4,m4a,3gp,3g2,mj2, from 'Voyage_to_the_Planet_of_Prehistoric_Women_formatOK.mp4':\r\n",
      "  Metadata:\r\n",
      "    major_brand     : isom\r\n",
      "    minor_version   : 512\r\n",
      "    compatible_brands: isomiso2avc1mp41\r\n",
      "    encoder         : Lavf57.83.100\r\n",
      "  Duration: 00:00:20.06, start: 0.000000, bitrate: 2270 kb/s\r\n",
      "    Stream #0:0(eng): Video: h264 (High) (avc1 / 0x31637661), yuv420p, 640x360 [SAR 1:1 DAR 16:9], 2137 kb/s, 25 fps, 25 tbr, 12800 tbn, 50 tbc (default)\r\n",
      "    Metadata:\r\n",
      "      handler_name    : VideoHandler\r\n",
      "    Stream #0:1(eng): Audio: aac (LC) (mp4a / 0x6134706D), 48000 Hz, stereo, fltp, 128 kb/s (default)\r\n",
      "    Metadata:\r\n",
      "      handler_name    : SoundHandler\r\n"
     ]
    }
   ],
   "source": [
    "!ffprobe -hide_banner Voyage_to_the_Planet_of_Prehistoric_Women_formatOK.mp4"
   ]
  },
  {
   "cell_type": "code",
   "execution_count": null,
   "metadata": {},
   "outputs": [],
   "source": []
  }
 ],
 "metadata": {
  "kernelspec": {
   "display_name": "Python 3 (ipykernel)",
   "language": "python",
   "name": "python3"
  },
  "language_info": {
   "codemirror_mode": {
    "name": "ipython",
    "version": 3
   },
   "file_extension": ".py",
   "mimetype": "text/x-python",
   "name": "python",
   "nbconvert_exporter": "python",
   "pygments_lexer": "ipython3",
   "version": "3.9.7"
  }
 },
 "nbformat": 4,
 "nbformat_minor": 4
}
