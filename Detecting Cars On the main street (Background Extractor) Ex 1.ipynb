{
 "cells": [
  {
   "cell_type": "markdown",
   "id": "1c9827de",
   "metadata": {},
   "source": [
    "## Installing necessary Libraries "
   ]
  },
  {
   "cell_type": "code",
   "execution_count": 1,
   "id": "f12b77d7",
   "metadata": {},
   "outputs": [
    {
     "name": "stdout",
     "output_type": "stream",
     "text": [
      "Requirement already satisfied: opencv-python in c:\\users\\yamini sez\\condaenv\\lib\\site-packages (4.5.5.62)\n",
      "Requirement already satisfied: numpy>=1.19.3 in c:\\users\\yamini sez\\condaenv\\lib\\site-packages (from opencv-python) (1.20.3)\n",
      "Note: you may need to restart the kernel to use updated packages.\n"
     ]
    }
   ],
   "source": [
    "pip install opencv-python"
   ]
  },
  {
   "cell_type": "code",
   "execution_count": 2,
   "id": "38739d5d",
   "metadata": {},
   "outputs": [
    {
     "name": "stdout",
     "output_type": "stream",
     "text": [
      "Requirement already satisfied: numpy in c:\\users\\yamini sez\\condaenv\\lib\\site-packages (1.20.3)\n",
      "Note: you may need to restart the kernel to use updated packages.\n"
     ]
    }
   ],
   "source": [
    "pip install numpy"
   ]
  },
  {
   "cell_type": "markdown",
   "id": "a7c859e2",
   "metadata": {},
   "source": [
    "## Importing the relevant libraries"
   ]
  },
  {
   "cell_type": "code",
   "execution_count": 3,
   "id": "01a9d453",
   "metadata": {},
   "outputs": [],
   "source": [
    "import cv2\n",
    "import numpy as np"
   ]
  },
  {
   "cell_type": "markdown",
   "id": "74b332e9",
   "metadata": {},
   "source": [
    "### 1) Opening the video\n",
    "\n",
    "<strong>This segment here open the video using the VideoCapture object in the opencv library so the input file can be read. If unable to open video, it will print an error statement.</strong>"
   ]
  },
  {
   "cell_type": "code",
   "execution_count": 4,
   "id": "02049b3e",
   "metadata": {},
   "outputs": [],
   "source": [
    "video = cv2.VideoCapture('Traffic_Laramie_1.mp4')\n",
    "\n",
    " # Check if camera opened successfully\n",
    "if (video.isOpened() == False):\n",
    "      print(\"Error opening video stream or file\")\n",
    "        "
   ]
  },
  {
   "cell_type": "markdown",
   "id": "ca0daa18",
   "metadata": {},
   "source": [
    "### 2) Using Background subtractor function and frame differecing to detect vehicles on the main street"
   ]
  },
  {
   "cell_type": "markdown",
   "id": "82f7a1d4",
   "metadata": {},
   "source": [
    "1) Extract back ground object using createBackgroundSubtractorMOG2\n",
    "\n",
    "2) Use theshold to obtain the foreground mask\n",
    "\n",
    "3) Use getStructuringElement to get eliptical shaped kernels\n",
    "\n",
    "4) Use morphologyEx to remove the the small gaps and black points in the foreground mask.\n",
    "\n",
    "5) Use findContours to find find objects from the black background. Objects to be detected are shown in white\n",
    "\n",
    "6) Loop through all the objects to be detected\n",
    "\n",
    "7) If contour area more then 4500,the program continues\n",
    "\n",
    "8) Take in the relevant whit objects and draws an approximate rectangle around the white object using cv2.boundingRect()\n",
    "\n",
    "9) Draw a green rectangle on the cars in the main street\n",
    "\n",
    "\n",
    "        "
   ]
  },
  {
   "cell_type": "code",
   "execution_count": 5,
   "id": "c454d635",
   "metadata": {},
   "outputs": [],
   "source": [
    "\n",
    "#Extracting the background using background subtractor\n",
    "backGroundObject =cv2.createBackgroundSubtractorMOG2 (history = 100, detectShadows = True)\n",
    "\n",
    "#kernel mask to none\n",
    "kernel_mask= None\n",
    "\n",
    "# if the video is playing, the while loop commences, while == True\n",
    "while video.isOpened():\n",
    "    #read the video into frame 2 and cap\n",
    "    cap,frame1 = video.read()\n",
    "    \n",
    "    #assign the copy of frame 1 to frame\n",
    "    frameCopy = frame1.copy()\n",
    "    \n",
    "    # if video not playing, break\n",
    "    if not cap :\n",
    "        break\n",
    "        \n",
    "    #apply the current copy of the frame \n",
    "    foreground_mask = backGroundObject.apply(frame1)\n",
    "    \n",
    "    \n",
    "    _,foreground_mask = cv2.threshold(foreground_mask,50,255,cv2.THRESH_BINARY)\n",
    "    \n",
    "   # Having elliptical shaped kernel to get the desired kernal \n",
    "    kernel_mask = cv2.getStructuringElement(cv2.MORPH_ELLIPSE,(5,5))\n",
    "    \n",
    "    #removes the the small homes or small black points in the forground object.\n",
    "    final_mask = cv2.morphologyEx(foreground_mask, cv2.MORPH_CLOSE,kernel_mask)\n",
    "    \n",
    "    #finds find objects from the black background. Objects to be detected are shown in white\n",
    "    contour_ft,h = cv2.findContours(foreground_mask, cv2.RETR_TREE,cv2.CHAIN_APPROX_SIMPLE)\n",
    "    \n",
    "    \n",
    "    #loop through all the objects to be detected\n",
    "    for cnt in contour_ft:\n",
    "        #if contour area more then 4500,the program continues\n",
    "        if cv2.contourArea(cnt) < 4500:\n",
    "            continue\n",
    "        \n",
    "        #takes in the relevant whit objects and draws an approximate rectangle around the white object (cars on the main street)\n",
    "        x_val,y_val,width,height = cv2.boundingRect(cnt)\n",
    "        #drawing a green rectangle on the cars in the main street\n",
    "        cv2.rectangle(frameCopy,(x_val,y_val),(x_val+ width, y_val+height),(0,255,0),3)\n",
    "        \n",
    "\n",
    "    #shows the detected cars\n",
    "    cv2.imshow('Detected Cars',frameCopy)\n",
    "    \n",
    "    k = cv2.waitKey(1) & 0xff\n",
    "    \n",
    "    if k == ord('q'):\n",
    "        break\n",
    "\n",
    "video.release()\n",
    "\n",
    "cv2.destroyAllWindows()"
   ]
  },
  {
   "cell_type": "code",
   "execution_count": null,
   "id": "84bbb31d",
   "metadata": {},
   "outputs": [],
   "source": []
  },
  {
   "cell_type": "code",
   "execution_count": null,
   "id": "7328e89b",
   "metadata": {},
   "outputs": [],
   "source": []
  },
  {
   "cell_type": "code",
   "execution_count": null,
   "id": "be90eabf",
   "metadata": {},
   "outputs": [],
   "source": []
  },
  {
   "cell_type": "code",
   "execution_count": null,
   "id": "c6618a5a",
   "metadata": {},
   "outputs": [],
   "source": []
  },
  {
   "cell_type": "code",
   "execution_count": null,
   "id": "92906a9c",
   "metadata": {},
   "outputs": [],
   "source": []
  }
 ],
 "metadata": {
  "kernelspec": {
   "display_name": "Python 3 (ipykernel)",
   "language": "python",
   "name": "python3"
  },
  "language_info": {
   "codemirror_mode": {
    "name": "ipython",
    "version": 3
   },
   "file_extension": ".py",
   "mimetype": "text/x-python",
   "name": "python",
   "nbconvert_exporter": "python",
   "pygments_lexer": "ipython3",
   "version": "3.9.7"
  }
 },
 "nbformat": 4,
 "nbformat_minor": 5
}
