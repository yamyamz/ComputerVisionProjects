{
 "cells": [
  {
   "cell_type": "markdown",
   "metadata": {},
   "source": [
    "## Encoding Sound 1"
   ]
  },
  {
   "cell_type": "markdown",
   "metadata": {},
   "source": [
    "#### Import Relevant Libraries"
   ]
  },
  {
   "cell_type": "code",
   "execution_count": 18,
   "metadata": {},
   "outputs": [],
   "source": [
    "import wave\n",
    "import math\n",
    "import os"
   ]
  },
  {
   "cell_type": "markdown",
   "metadata": {},
   "source": [
    "#### Rice Algorithm Encoding"
   ]
  },
  {
   "cell_type": "markdown",
   "metadata": {},
   "source": [
    "When a sound file is passed into the encode function, a list of frames of the sound file will be passed into the function together with the k (number of bits).   The modulo is found by taking 2 to the power of k. The remainder is than found by taking S modulo the modulo value. The quotient is then obtained. The quotient is looped through and 1 is added to the quotient code. After loop ends, a zero is added at the end of the quotient code. The binary format is then obtained from the remainder. Code word is found by adding the quotient code and binary format. "
   ]
  },
  {
   "cell_type": "code",
   "execution_count": 19,
   "metadata": {},
   "outputs": [],
   "source": [
    "def RiceAlgoencode(S,k):\n",
    "    M_odulo = 2 ** k \n",
    "    r_emainder = S % M_odulo\n",
    "    quo_tient =int(math.floor(S / M_odulo))\n",
    "    Quo_C = \"\"\n",
    "\n",
    "\n",
    "    for i in range(quo_tient):\n",
    "        Quo_C += \"1\"\n",
    "    Quo_C += \"0\"\n",
    "\n",
    "    binary_FORMAT = \"{0:b}\".format(r_emainder)\n",
    "\n",
    "\n",
    "\n",
    "    Code_WORD = Quo_C + binary_FORMAT\n",
    "    \n",
    "    \n",
    "    return Code_WORD\n",
    "\n",
    "\n",
    "\n"
   ]
  },
  {
   "cell_type": "markdown",
   "metadata": {},
   "source": [
    "#### File size of Sound 1"
   ]
  },
  {
   "cell_type": "code",
   "execution_count": 20,
   "metadata": {},
   "outputs": [
    {
     "name": "stdout",
     "output_type": "stream",
     "text": [
      "Size of file is 1002088 bytes\n"
     ]
    }
   ],
   "source": [
    "file_size = os.path.getsize('Sound1.wav') \n",
    "print('Size of file is', file_size, 'bytes')"
   ]
  },
  {
   "cell_type": "markdown",
   "metadata": {},
   "source": [
    "### Codes to compress the sound file"
   ]
  },
  {
   "cell_type": "markdown",
   "metadata": {},
   "source": [
    "The sound file and the number of bits (k=2) is passed into the compress function. The compress function will read and extract the frames in the sound file. The frames will be placed in a byte array. After looping through the byte array list, each frame will be encoded together with the number of bits. And the newly encoded files will be written into a new file and in this case, it is called Sound1_Enc_2bits.ex2. \n",
    "The same method of compression and encoding is applied to sound 1 when k =4, sound 2 when k =2 and k=4.\n"
   ]
  },
  {
   "cell_type": "code",
   "execution_count": 21,
   "metadata": {},
   "outputs": [],
   "source": [
    "def compress_SOUNDFILE(sound_file,k):\n",
    "\n",
    "    sound_file = wave.open(sound_file, mode=\"rb\")\n",
    "    frames_list = list(sound_file.readframes(sound_file.getnframes())) \n",
    "    frames_ = bytearray(frames_list)\n",
    "    \n",
    "    f = open(\"Sound1_Enc_2bits.ex2\", \"w\")\n",
    "    for i in range(len(frames_)):\n",
    "        f.write(RiceAlgoencode(k, frames_[i]))\n",
    "        f.write('\\n')   \n",
    "    f.close()"
   ]
  },
  {
   "cell_type": "markdown",
   "metadata": {},
   "source": [
    "### 1) Sound 1 and k=2"
   ]
  },
  {
   "cell_type": "code",
   "execution_count": 22,
   "metadata": {},
   "outputs": [],
   "source": [
    "compress_SOUNDFILE(\"Sound1.wav\", 2)\n"
   ]
  },
  {
   "cell_type": "markdown",
   "metadata": {},
   "source": [
    "### Size of sound 1 when k=4 bits"
   ]
  },
  {
   "cell_type": "code",
   "execution_count": 23,
   "metadata": {},
   "outputs": [
    {
     "name": "stdout",
     "output_type": "stream",
     "text": [
      "Size of file is 4193022 bytes\n"
     ]
    }
   ],
   "source": [
    "file_size = os.path.getsize('Sound1_Enc_2bits.ex2') \n",
    "print('Size of file is', file_size, 'bytes')"
   ]
  },
  {
   "cell_type": "code",
   "execution_count": 24,
   "metadata": {},
   "outputs": [],
   "source": [
    "def compress_SOUNDFILE(sound_file,k):\n",
    "\n",
    "    sound_file = wave.open(sound_file, mode=\"rb\")\n",
    "    frames_list = list(sound_file.readframes(sound_file.getnframes())) \n",
    "    frames_ = bytearray(frames_list)\n",
    "    \n",
    "    f = open(\"Sound1_Enc_4bits.ex2\", \"w\")\n",
    "    for i in range(len(frames_)):\n",
    "        f.write(RiceAlgoencode(k, frames_[i]))\n",
    "        f.write('\\n')   \n",
    "    f.close()"
   ]
  },
  {
   "cell_type": "markdown",
   "metadata": {},
   "source": [
    "### 1) Sound 1 and k=4"
   ]
  },
  {
   "cell_type": "code",
   "execution_count": 25,
   "metadata": {},
   "outputs": [],
   "source": [
    "compress_SOUNDFILE(\"Sound1.wav\", 4)"
   ]
  },
  {
   "cell_type": "markdown",
   "metadata": {},
   "source": [
    "### Size of sound 1 when k=4 bits"
   ]
  },
  {
   "cell_type": "code",
   "execution_count": 26,
   "metadata": {},
   "outputs": [
    {
     "name": "stdout",
     "output_type": "stream",
     "text": [
      "Size of file is 5349344 bytes\n"
     ]
    }
   ],
   "source": [
    "file_size = os.path.getsize('Sound1_Enc_4bits.ex2') \n",
    "print('Size of file is', file_size, 'bytes')"
   ]
  },
  {
   "cell_type": "markdown",
   "metadata": {},
   "source": [
    "## Encoding Sound 2"
   ]
  },
  {
   "cell_type": "markdown",
   "metadata": {},
   "source": [
    "### Size of Sound 2"
   ]
  },
  {
   "cell_type": "code",
   "execution_count": 27,
   "metadata": {},
   "outputs": [
    {
     "name": "stdout",
     "output_type": "stream",
     "text": [
      "Size of file is 1008044 bytes\n"
     ]
    }
   ],
   "source": [
    "file_size = os.path.getsize('Sound2.wav') \n",
    "print('Size of file is', file_size, 'bytes')"
   ]
  },
  {
   "cell_type": "code",
   "execution_count": 28,
   "metadata": {},
   "outputs": [],
   "source": [
    "def compress_SOUNDFILE(sound_file,k):\n",
    "\n",
    "    sound_file = wave.open(sound_file, mode=\"rb\")\n",
    "    frames_list = list(sound_file.readframes(sound_file.getnframes())) \n",
    "    frames_ = bytearray(frames_list)\n",
    "    \n",
    "    f = open(\"Sound2_Enc_2bits.ex2\", \"w\")\n",
    "    for i in range(len(frames_)):\n",
    "        f.write(RiceAlgoencode(k, frames_[i]))\n",
    "        f.write('\\n')   \n",
    "    f.close()"
   ]
  },
  {
   "cell_type": "markdown",
   "metadata": {},
   "source": [
    "### 1) Sound 2 and k=2"
   ]
  },
  {
   "cell_type": "code",
   "execution_count": 29,
   "metadata": {},
   "outputs": [],
   "source": [
    "compress_SOUNDFILE(\"Sound2.wav\", 2)"
   ]
  },
  {
   "cell_type": "markdown",
   "metadata": {},
   "source": [
    "### Size of sound 2 when k=2 bits\n"
   ]
  },
  {
   "cell_type": "code",
   "execution_count": 30,
   "metadata": {},
   "outputs": [
    {
     "name": "stdout",
     "output_type": "stream",
     "text": [
      "Size of file is 4048385 bytes\n"
     ]
    }
   ],
   "source": [
    "file_size = os.path.getsize('Sound2_Enc_2bits.ex2') \n",
    "print('Size of file is', file_size, 'bytes')"
   ]
  },
  {
   "cell_type": "code",
   "execution_count": 31,
   "metadata": {},
   "outputs": [],
   "source": [
    "def compress_SOUNDFILE(sound_file,k):\n",
    "\n",
    "    sound_file = wave.open(sound_file, mode=\"rb\")\n",
    "    frames_list = list(sound_file.readframes(sound_file.getnframes())) \n",
    "    frames_ = bytearray(frames_list)\n",
    "    \n",
    "    f = open(\"Sound2_Enc_4bits.ex2\", \"w\")\n",
    "    for i in range(len(frames_)):\n",
    "        f.write(RiceAlgoencode(k, frames_[i]))\n",
    "        f.write('\\n')   \n",
    "    f.close()"
   ]
  },
  {
   "cell_type": "markdown",
   "metadata": {},
   "source": [
    "### 1) Sound 2 and k=4"
   ]
  },
  {
   "cell_type": "code",
   "execution_count": 32,
   "metadata": {},
   "outputs": [],
   "source": [
    "compress_SOUNDFILE(\"Sound2.wav\", 4)"
   ]
  },
  {
   "cell_type": "markdown",
   "metadata": {},
   "source": [
    "### Size of sound 2 when k=2 bits"
   ]
  },
  {
   "cell_type": "code",
   "execution_count": 33,
   "metadata": {},
   "outputs": [
    {
     "name": "stdout",
     "output_type": "stream",
     "text": [
      "Size of file is 5057599 bytes\n"
     ]
    }
   ],
   "source": [
    "file_size = os.path.getsize('Sound2_Enc_4bits.ex2') \n",
    "print('Size of file is', file_size, 'bytes')"
   ]
  },
  {
   "cell_type": "markdown",
   "metadata": {},
   "source": [
    "## Decode"
   ]
  },
  {
   "cell_type": "code",
   "execution_count": null,
   "metadata": {},
   "outputs": [],
   "source": []
  },
  {
   "cell_type": "code",
   "execution_count": null,
   "metadata": {},
   "outputs": [],
   "source": []
  }
 ],
 "metadata": {
  "kernelspec": {
   "display_name": "Python 3 (ipykernel)",
   "language": "python",
   "name": "python3"
  },
  "language_info": {
   "codemirror_mode": {
    "name": "ipython",
    "version": 3
   },
   "file_extension": ".py",
   "mimetype": "text/x-python",
   "name": "python",
   "nbconvert_exporter": "python",
   "pygments_lexer": "ipython3",
   "version": "3.9.7"
  }
 },
 "nbformat": 4,
 "nbformat_minor": 4
}
