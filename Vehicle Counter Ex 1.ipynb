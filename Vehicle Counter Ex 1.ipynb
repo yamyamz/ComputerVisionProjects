{
 "cells": [
  {
   "cell_type": "markdown",
   "id": "283dc4b3",
   "metadata": {},
   "source": [
    "## Installing necessary Libraries "
   ]
  },
  {
   "cell_type": "code",
   "execution_count": 1,
   "id": "1d32fa6b",
   "metadata": {},
   "outputs": [
    {
     "name": "stdout",
     "output_type": "stream",
     "text": [
      "Requirement already satisfied: opencv-python in c:\\users\\yamini sez\\condaenv\\lib\\site-packages (4.5.5.62)\n",
      "Requirement already satisfied: numpy>=1.14.5 in c:\\users\\yamini sez\\condaenv\\lib\\site-packages (from opencv-python) (1.20.3)\n",
      "Note: you may need to restart the kernel to use updated packages.\n"
     ]
    }
   ],
   "source": [
    "pip install opencv-python"
   ]
  },
  {
   "cell_type": "code",
   "execution_count": 2,
   "id": "f359e12b",
   "metadata": {},
   "outputs": [
    {
     "name": "stdout",
     "output_type": "stream",
     "text": [
      "Requirement already satisfied: numpy in c:\\users\\yamini sez\\condaenv\\lib\\site-packages (1.20.3)\n",
      "Note: you may need to restart the kernel to use updated packages.\n"
     ]
    }
   ],
   "source": [
    "pip install numpy"
   ]
  },
  {
   "cell_type": "markdown",
   "id": "cb7800f2",
   "metadata": {},
   "source": [
    "## Importing the relevant libraries\n"
   ]
  },
  {
   "cell_type": "code",
   "execution_count": 3,
   "id": "7039ceee",
   "metadata": {},
   "outputs": [],
   "source": [
    "import cv2\n",
    "import numpy as np"
   ]
  },
  {
   "cell_type": "markdown",
   "id": "0c25cab7",
   "metadata": {},
   "source": [
    "### 1) Opening the Traffic_Laramie_1.mp4\n",
    "\n",
    "<strong>This segment here open the video using the VideoCapture object in the opencv library so the input file can be read. If unable to open video, it will print an error statement.</strong>"
   ]
  },
  {
   "cell_type": "code",
   "execution_count": 4,
   "id": "3f8f0486",
   "metadata": {},
   "outputs": [],
   "source": [
    "# Create a VideoCapture object and read from input file\n",
    "video = cv2.VideoCapture('Traffic_Laramie_1.mp4')\n",
    "\n",
    "if (video.isOpened() == False): # Check if camera opened successfully\n",
    "      print(\"Error opening video stream or file\")\n"
   ]
  },
  {
   "cell_type": "markdown",
   "id": "7f874976",
   "metadata": {},
   "source": [
    "### 2) Using Counting the cars that go to the city centre"
   ]
  },
  {
   "cell_type": "markdown",
   "id": "8f526719",
   "metadata": {},
   "source": [
    "1) Extract back ground object using createBackgroundSubtractorMOG2\n",
    "\n",
    "2) Use theshold to obtain the foreground mask\n",
    "\n",
    "3) Use getStructuringElement to get eliptical shaped kernels\n",
    "\n",
    "4) Use morphologyEx to remove the the small gaps and black points in the foreground mask.\n",
    "\n",
    "5) Use findContours to find find objects from the black background. Objects to be detected are shown in white\n",
    "\n",
    "6) Loop through all the objects to be detected\n",
    "\n",
    "7) If contour area more then 4500,the program continues\n",
    "\n",
    "8) Take in the relevant whit objects and draws an approximate rectangle around the white object using cv2.boundingRect()\n",
    "\n",
    "9) Calcultae the xMid and yMid\n",
    "\n",
    "10) If the xmid is within a certain range the vehicle_counter goes up by 1    \n",
    "\n",
    "    \n"
   ]
  },
  {
   "cell_type": "code",
   "execution_count": 5,
   "id": "72896c5a",
   "metadata": {},
   "outputs": [],
   "source": [
    "#Extracting the background using background subtractor\n",
    "backGroundObject =cv2.createBackgroundSubtractorMOG2 (history = 100, detectShadows = True)\n",
    "\n",
    "vehicle_counter = 0\n",
    "#kernel mask to none\n",
    "kernel_mask= None\n",
    "\n",
    "# if the video is playing, the while loop commences, while == True\n",
    "while video.isOpened():\n",
    "    \n",
    "    #read the video into frame and cap\n",
    "    cap,frame = video.read()\n",
    "    \n",
    "    #assign the copy of frame to frame_copy\n",
    "    frame_copy = frame.copy()\n",
    "    \n",
    "     # if video not playing, break\n",
    "    if not cap :\n",
    "        break\n",
    "\n",
    "    #apply the current copy of the frame \n",
    "    foreground_mask = backGroundObject.apply(frame)\n",
    "    \n",
    "    _,foreground_mask = cv2.threshold(foreground_mask,50,255,cv2.THRESH_BINARY)\n",
    "    \n",
    "    #erode helps to remove boundaries\n",
    "    foreground_mask = cv2.erode(foreground_mask,kernel_mask,iterations=1)\n",
    "    \n",
    "    #dialte to increase the size of the cars and making it's features more obvious\n",
    "    foreground_mask = cv2.dilate(foreground_mask,kernel_mask,iterations=2)\n",
    "    \n",
    "    # Having elliptical shaped kernel to get the desired kernal \n",
    "    kernel_mask = cv2.getStructuringElement(cv2.MORPH_ELLIPSE,(5,5))\n",
    "    \n",
    "    #removes the the small homes or small black points in the forground object.\n",
    "    final_mask = cv2.morphologyEx(foreground_mask, cv2.MORPH_CLOSE,kernel_mask)\n",
    "    \n",
    "    #finds find objects from the black background. Objects to be detected are shown in white\n",
    "    contour_ft,h = cv2.findContours(foreground_mask, cv2.RETR_TREE,cv2.CHAIN_APPROX_SIMPLE)\n",
    "    \n",
    "  \n",
    "    #loop through all the objects t0 be detected\n",
    "    for cnt in contour_ft:\n",
    "        \n",
    "        #if contour area more then 4500,the program continues\n",
    "        if cv2.contourArea(cnt) < 4500:\n",
    "            continue\n",
    "        \n",
    "        #takes in the relevant whit objects and draws an approximate rectangle around the white object (cars on the main street)\n",
    "        x_val,y_val,width,height = cv2.boundingRect(cnt)\n",
    "       \n",
    "        # calculatng xmid and ymid\n",
    "        xMid = int((x_val+(x_val+width))/2)\n",
    "        yMid = int((y_val+(y_val+height))/2)\n",
    "        \n",
    "        #if the xmid is within a certain range        \n",
    "        if xMid >= 460 and xMid <= 465:\n",
    "            \n",
    "            #vehicle_counter goes up by 1\n",
    "            vehicle_counter += 1\n",
    "            \n",
    "           \n",
    "     #prints the vehicle counter on the screen       \n",
    "    cv2.putText(frame_copy,\"Vehicle No: \" + str(vehicle_counter), (450,70),cv2.FONT_HERSHEY_SIMPLEX,2,(0,0,255),5)\n",
    "           \n",
    "            \n",
    "    \n",
    "    #displays the counter of traffic 1\n",
    "    cv2.imshow('Traffic_1',frame_copy)\n",
    "    \n",
    "    k = cv2.waitKey(1) & 0xff\n",
    "    \n",
    "    if k == ord('q'):\n",
    "        break\n",
    "\n",
    "video.release()\n",
    "\n",
    "cv2.destroyAllWindows()"
   ]
  },
  {
   "cell_type": "markdown",
   "id": "e7b4b70d",
   "metadata": {},
   "source": [
    "### 2) Opening the Traffic_Laramie_2.mp4\n",
    "\n",
    "<strong>This segment here open the video using the VideoCapture object in the opencv library so the input file can be read. If unable to open video, it will print an error statement.</strong>"
   ]
  },
  {
   "cell_type": "code",
   "execution_count": 6,
   "id": "dbd49072",
   "metadata": {},
   "outputs": [],
   "source": [
    "# Create a VideoCapture object and read from input file\n",
    "video = cv2.VideoCapture('Traffic_Laramie_2.mp4')\n",
    "vehicle_counter = 0\n",
    "\n",
    "if (video.isOpened() == False): # Check if camera opened successfully\n",
    "      print(\"Error opening video stream or file\")"
   ]
  },
  {
   "cell_type": "markdown",
   "id": "9981ff89",
   "metadata": {},
   "source": [
    "1) Extract back ground object using createBackgroundSubtractorMOG2\n",
    "\n",
    "2) Use theshold to obtain the foreground mask\n",
    "\n",
    "3) Use getStructuringElement to get eliptical shaped kernels\n",
    "\n",
    "4) Use morphologyEx to remove the the small gaps and black points in the foreground mask.\n",
    "\n",
    "5) Use findContours to find find objects from the black background. Objects to be detected are shown in white\n",
    "\n",
    "6) Loop through all the objects to be detected\n",
    "\n",
    "7) If contour area more then 4500,the program continues\n",
    "\n",
    "8) Take in the relevant whit objects and draws an approximate rectangle around the white object using cv2.boundingRect()\n",
    "\n",
    "9) Calcultae the xMid and yMid\n",
    "\n",
    "10) If the xmid is within a certain range the vehicle_counter goes up by 1    \n",
    "\n",
    "    \n"
   ]
  },
  {
   "cell_type": "code",
   "execution_count": 7,
   "id": "b192c88d",
   "metadata": {},
   "outputs": [],
   "source": [
    "#Extracting the background using background subtractor\n",
    "backGroundObject =cv2.createBackgroundSubtractorMOG2 (history = 100, detectShadows = True)\n",
    "\n",
    "#kernel mask to none\n",
    "kernel_mask= None\n",
    "\n",
    "# if the video is playing, the while loop commences, while == True\n",
    "while video.isOpened():\n",
    "    \n",
    "    #read the video into frame and cap\n",
    "    cap,frame = video.read()\n",
    "    \n",
    "    #assign the copy of frame to frame_copy\n",
    "    frame_copy = frame.copy()\n",
    "    \n",
    "     # if video not playing, break\n",
    "    if not cap :\n",
    "        break\n",
    "\n",
    "    #apply the current copy of the frame \n",
    "    foreground_mask = backGroundObject.apply(frame)\n",
    "    \n",
    "    _,foreground_mask = cv2.threshold(foreground_mask,50,255,cv2.THRESH_BINARY)\n",
    "    \n",
    "    #erode helps to remove boundaries\n",
    "    foreground_mask = cv2.erode(foreground_mask,kernel_mask,iterations=1)\n",
    "    \n",
    "    #dialte to increase the size of the cars and making it's features more obvious\n",
    "    foreground_mask = cv2.dilate(foreground_mask,kernel_mask,iterations=2)\n",
    "    \n",
    "    # Having elliptical shaped kernel to get the desired kernal \n",
    "    kernel_mask = cv2.getStructuringElement(cv2.MORPH_ELLIPSE,(5,5))\n",
    "    \n",
    "    #removes the the small homes or small black points in the forground object.\n",
    "    final_mask = cv2.morphologyEx(foreground_mask, cv2.MORPH_CLOSE,kernel_mask)\n",
    "    \n",
    "    #finds find objects from the black background. Objects to be detected are shown in white\n",
    "    contour_ft,h = cv2.findContours(foreground_mask, cv2.RETR_TREE,cv2.CHAIN_APPROX_SIMPLE)\n",
    "    \n",
    "  \n",
    "    #loop through all the objects t0 be detected\n",
    "    for cnt in contour_ft:\n",
    "        \n",
    "        #if contour area more then 4500,the program continues\n",
    "        if cv2.contourArea(cnt) < 4500:\n",
    "            continue\n",
    "        \n",
    "        #takes in the relevant whit objects and draws an approximate rectangle around the white object (cars on the main street)\n",
    "        x_val,y_val,width,height = cv2.boundingRect(cnt)\n",
    "       \n",
    "        #calculating xMid and yMid\n",
    "        xMid_val = int((x_val+(x_val+width))/2)\n",
    "        yMid_val = int((y_val+(y_val+height))/2)\n",
    "        \n",
    "        #if xMid_val is within a range,       \n",
    "        if xMid_val >= 460 and xMid_val <= 463:\n",
    "            \n",
    "            # the vehicle counter increases by 1\n",
    "            vehicle_counter += 1\n",
    "            \n",
    "           \n",
    "    #prints the vehicle counter on the screen       \n",
    "    cv2.putText(frame_copy,\"Vehicle No: \" + str(vehicle_counter), (450,70),cv2.FONT_HERSHEY_SIMPLEX,2,(0,0,255),5)\n",
    "           \n",
    "            \n",
    "    #Displays the vehicle counting of traffic 2\n",
    "    cv2.imshow('Traffic_2',frame_copy)\n",
    "    \n",
    "    k = cv2.waitKey(1) & 0xff\n",
    "    \n",
    "    if k == ord('q'):\n",
    "        break\n",
    "\n",
    "video.release()\n",
    "\n",
    "cv2.destroyAllWindows()"
   ]
  },
  {
   "cell_type": "code",
   "execution_count": null,
   "id": "632ca2bb",
   "metadata": {},
   "outputs": [],
   "source": []
  },
  {
   "cell_type": "code",
   "execution_count": null,
   "id": "c6713ac1",
   "metadata": {},
   "outputs": [],
   "source": []
  }
 ],
 "metadata": {
  "kernelspec": {
   "display_name": "Python 3 (ipykernel)",
   "language": "python",
   "name": "python3"
  },
  "language_info": {
   "codemirror_mode": {
    "name": "ipython",
    "version": 3
   },
   "file_extension": ".py",
   "mimetype": "text/x-python",
   "name": "python",
   "nbconvert_exporter": "python",
   "pygments_lexer": "ipython3",
   "version": "3.9.7"
  }
 },
 "nbformat": 4,
 "nbformat_minor": 5
}
